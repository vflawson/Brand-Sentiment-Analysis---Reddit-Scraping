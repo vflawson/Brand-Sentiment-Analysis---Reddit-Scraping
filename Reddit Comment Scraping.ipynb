{
 "cells": [
  {
   "cell_type": "markdown",
   "id": "1cd7f3c8",
   "metadata": {},
   "source": [
    "### Install praw package for scraping with Reddit API"
   ]
  },
  {
   "cell_type": "code",
   "execution_count": null,
   "id": "79099833",
   "metadata": {},
   "outputs": [],
   "source": [
    "pip install praw    "
   ]
  },
  {
   "cell_type": "code",
   "execution_count": null,
   "id": "2cad1d76",
   "metadata": {},
   "outputs": [],
   "source": [
    "import praw\n",
    "import pandas as pd\n",
    "import numpy as np\n",
    "from datetime import datetime \n",
    "import os"
   ]
  },
  {
   "cell_type": "markdown",
   "id": "0c96c1cc",
   "metadata": {},
   "source": [
    "#### Connect Reddit Developer API"
   ]
  },
  {
   "cell_type": "code",
   "execution_count": null,
   "id": "cba78260",
   "metadata": {},
   "outputs": [],
   "source": [
    "reddit = praw.Reddit(\n",
    "    user_agent=\"xx\",\n",
    "    client_id=\"xxxx\",\n",
    "    client_secret=\"xxxxxx\",\n",
    ")"
   ]
  },
  {
   "cell_type": "markdown",
   "id": "ad55965d",
   "metadata": {},
   "source": [
    "#### Access comments for a given brand name (i.e. \"Toyota\"). Specify number of comments (i.e. 15)"
   ]
  },
  {
   "cell_type": "code",
   "execution_count": null,
   "id": "d88f550d",
   "metadata": {
    "scrolled": false
   },
   "outputs": [],
   "source": [
    "all = reddit.subreddit(\"all\")\n",
    "idlist = []\n",
    "comment = []\n",
    "for a in all.search(\"Toyota\" limit = 15):\n",
    "    idlist.append(a.id)\n",
    "    for b in idlist:\n",
    "        submission = reddit.submission(id = b)\n",
    "        submission.comments.replace_more(limit=0)\n",
    "        for top_level_comment in submission.comments:\n",
    "            comment.append(top_level_comment.body)"
   ]
  },
  {
   "cell_type": "code",
   "execution_count": null,
   "id": "d60b9a82",
   "metadata": {},
   "outputs": [],
   "source": [
    "print(comment)"
   ]
  },
  {
   "cell_type": "code",
   "execution_count": null,
   "id": "65d6e47d",
   "metadata": {},
   "outputs": [],
   "source": [
    "comment = np.array(comment)\n",
    "print(comment)\n",
    "len(comment)"
   ]
  },
  {
   "cell_type": "markdown",
   "id": "c1f0b2c0",
   "metadata": {},
   "source": [
    "#### Access dates of comments pulled"
   ]
  },
  {
   "cell_type": "code",
   "execution_count": null,
   "id": "672ce46d",
   "metadata": {},
   "outputs": [],
   "source": [
    "all = reddit.subreddit(\"all\")\n",
    "idlist = []\n",
    "datelist = []\n",
    "for a in all.search(\"Toyota\", limit = 15):\n",
    "    idlist.append(a.id)\n",
    "    for b in idlist:\n",
    "        submission = reddit.submission(id = b)\n",
    "        submission.comments.replace_more(limit=0)\n",
    "        for top_level_comment in submission.comments:\n",
    "            datelist.append(top_level_comment.created_utc)\n",
    "print(datelist)"
   ]
  },
  {
   "cell_type": "code",
   "execution_count": null,
   "id": "2e13364c",
   "metadata": {},
   "outputs": [],
   "source": [
    "datelist[:] = [datetime.fromtimestamp(a) for a in datelist]"
   ]
  },
  {
   "cell_type": "code",
   "execution_count": null,
   "id": "0cfd5d8b",
   "metadata": {},
   "outputs": [],
   "source": [
    "datelist = np.array(datelist)"
   ]
  },
  {
   "cell_type": "markdown",
   "id": "7436d1be",
   "metadata": {},
   "source": [
    "#### Concatenate dataframe with comments and dates"
   ]
  },
  {
   "cell_type": "code",
   "execution_count": null,
   "id": "521a9211",
   "metadata": {},
   "outputs": [],
   "source": [
    "df = pd.DataFrame()\n",
    "df['comment'] = comment\n",
    "df['date'] = datelist\n",
    "print(df)"
   ]
  },
  {
   "cell_type": "code",
   "execution_count": null,
   "id": "8fb9e3cc",
   "metadata": {},
   "outputs": [],
   "source": [
    "os.chdir(r'save_location')\n",
    "df.to_csv('reddit_data.csv')"
   ]
  }
 ],
 "metadata": {
  "kernelspec": {
   "display_name": "Python 3",
   "language": "python",
   "name": "python3"
  },
  "language_info": {
   "codemirror_mode": {
    "name": "ipython",
    "version": 3
   },
   "file_extension": ".py",
   "mimetype": "text/x-python",
   "name": "python",
   "nbconvert_exporter": "python",
   "pygments_lexer": "ipython3",
   "version": "3.8.8"
  }
 },
 "nbformat": 4,
 "nbformat_minor": 5
}
